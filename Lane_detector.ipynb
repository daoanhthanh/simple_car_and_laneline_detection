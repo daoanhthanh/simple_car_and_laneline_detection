{
 "metadata": {
  "language_info": {
   "codemirror_mode": {
    "name": "ipython",
    "version": 3
   },
   "file_extension": ".py",
   "mimetype": "text/x-python",
   "name": "python",
   "nbconvert_exporter": "python",
   "pygments_lexer": "ipython3",
   "version": "3.9.1-final"
  },
  "orig_nbformat": 2,
  "kernelspec": {
   "name": "python3",
   "display_name": "Python 3.9.1 64-bit",
   "metadata": {
    "interpreter": {
     "hash": "46edfe036d602edd95858f34c4629cae8dd9bdd1f9450fa74a8589bd51c0e137"
    }
   }
  }
 },
 "nbformat": 4,
 "nbformat_minor": 2,
 "cells": [
  {
   "cell_type": "code",
   "execution_count": 28,
   "metadata": {},
   "outputs": [],
   "source": [
    "import cv2 as cv\n",
    "import matplotlib.pyplot as plt\n",
    "import numpy as np\n"
   ]
  },
  {
   "cell_type": "code",
   "execution_count": 36,
   "metadata": {},
   "outputs": [],
   "source": [
    "def do_canny(frame):\n",
    "    gray = cv.cvtColor(frame, cv.COLOR_RGB2GRAY)\n",
    "    blur = cv.GaussianBlur(gray, (5,5), 0)\n",
    "    canny = cv.Canny(blur, 70, 210)\n",
    "    return canny"
   ]
  },
  {
   "cell_type": "code",
   "execution_count": 30,
   "metadata": {},
   "outputs": [],
   "source": [
    "def do_segment(frame):\n",
    "    height = frame.shape[0] #shape = [number_of_row, number_of_collumn, number_of_dimension]\n",
    "    polygons = np.array([\n",
    "      [(0, height), (800, height), (380, 290)]  \n",
    "    ])\n",
    "    mask = np.zeros_like(frame)\n",
    "    cv.fillPoly(mask, polygons, 255) #return mask\n",
    "    segment = cv.bitwise_and(frame, mask) # Only keep the region of interest\n",
    "    return segment"
   ]
  },
  {
   "cell_type": "code",
   "execution_count": 31,
   "metadata": {},
   "outputs": [],
   "source": [
    "def calculate_lines(frame, lines):\n",
    "    # Empty arrays to store the coordinates of the left and right lines\n",
    "    left = []\n",
    "    right = []\n",
    "    # Loops through every detected line\n",
    "    for line in lines:\n",
    "        # Reshapes line from 2D array to 1D array\n",
    "        x1, y1, x2, y2 = line.reshape(4)\n",
    "        # Fits a linear polynomial to the x and y coordinates and returns a vector of coefficients which describe the slope and y-intercept\n",
    "        parameters = np.polyfit((x1, x2), (y1, y2), 1)\n",
    "        slope = parameters[0]\n",
    "        y_intercept = parameters[1]\n",
    "        # If slope is negative, the line is to the left of the lane, and otherwise, the line is to the right of the lane\n",
    "        if slope < 0:\n",
    "            left.append((slope, y_intercept))\n",
    "        else:\n",
    "            right.append((slope, y_intercept))\n",
    "    # Averages out all the values for left and right into a single slope and y-intercept value for each line\n",
    "    left_avg = np.average(left, axis = 0)\n",
    "    right_avg = np.average(right, axis = 0)\n",
    "    # Calculates the x1, y1, x2, y2 coordinates for the left and right lines\n",
    "    left_line = calculate_coordinates(frame, left_avg)\n",
    "    right_line = calculate_coordinates(frame, right_avg)\n",
    "    return np.array([left_line, right_line])"
   ]
  },
  {
   "cell_type": "code",
   "execution_count": 32,
   "metadata": {},
   "outputs": [],
   "source": [
    "def calculate_coordinates(frame, parameters):\n",
    "    slope, intercept = parameters\n",
    "    # Sets initial y-coordinate as height from top down (bottom of the frame)\n",
    "    y1 = frame.shape[0]\n",
    "    # Sets final y-coordinate as 150 above the bottom of the frame\n",
    "    y2 = int(y1 - 150)\n",
    "    # Sets initial x-coordinate as (y1 - b) / m since y1 = mx1 + b\n",
    "    x1 = int((y1 - intercept) / slope)\n",
    "    # Sets final x-coordinate as (y2 - b) / m since y2 = mx2 + b\n",
    "    x2 = int((y2 - intercept) / slope)\n",
    "    return np.array([x1, y1, x2, y2])"
   ]
  },
  {
   "cell_type": "code",
   "execution_count": 33,
   "metadata": {},
   "outputs": [],
   "source": [
    "def visualize_lines(frame, lines):\n",
    "    # Creates an image filled with zero intensities with the same dimensions as the frame\n",
    "    lines_visualize = np.zeros_like(frame)\n",
    "    # Checks if any lines are detected\n",
    "    if lines is not None:\n",
    "        for x1, y1, x2, y2 in lines:\n",
    "            # Draws lines between two coordinates with green color and 5 thickness\n",
    "            cv.line(lines_visualize, (x1, y1), (x2, y2), (0, 255, 0), 5)\n",
    "    return lines_visualize"
   ]
  },
  {
   "cell_type": "code",
   "execution_count": 37,
   "metadata": {},
   "outputs": [
    {
     "output_type": "stream",
     "name": "stderr",
     "text": [
      "C:\\Users\\daoan\\AppData\\Local\\Programs\\Python\\Python39\\lib\\site-packages\\numpy\\lib\\function_base.py:380: RuntimeWarning: Mean of empty slice.\n  avg = a.mean(axis)\nC:\\Users\\daoan\\AppData\\Local\\Programs\\Python\\Python39\\lib\\site-packages\\numpy\\core\\_methods.py:188: RuntimeWarning: invalid value encountered in double_scalars\n  ret = ret.dtype.type(ret / rcount)\n"
     ]
    },
    {
     "output_type": "error",
     "ename": "TypeError",
     "evalue": "cannot unpack non-iterable numpy.float64 object",
     "traceback": [
      "\u001b[1;31m---------------------------------------------------------------------------\u001b[0m",
      "\u001b[1;31mTypeError\u001b[0m                                 Traceback (most recent call last)",
      "\u001b[1;32m<ipython-input-37-787e454ae162>\u001b[0m in \u001b[0;36m<module>\u001b[1;34m\u001b[0m\n\u001b[0;32m     10\u001b[0m     \u001b[0mhough\u001b[0m \u001b[1;33m=\u001b[0m \u001b[0mcv\u001b[0m\u001b[1;33m.\u001b[0m\u001b[0mHoughLinesP\u001b[0m\u001b[1;33m(\u001b[0m\u001b[0msegment\u001b[0m\u001b[1;33m,\u001b[0m \u001b[1;36m2\u001b[0m\u001b[1;33m,\u001b[0m \u001b[0mnp\u001b[0m\u001b[1;33m.\u001b[0m\u001b[0mpi\u001b[0m \u001b[1;33m/\u001b[0m \u001b[1;36m180\u001b[0m\u001b[1;33m,\u001b[0m \u001b[1;36m100\u001b[0m\u001b[1;33m,\u001b[0m \u001b[0mnp\u001b[0m\u001b[1;33m.\u001b[0m\u001b[0marray\u001b[0m\u001b[1;33m(\u001b[0m\u001b[1;33m[\u001b[0m\u001b[1;33m]\u001b[0m\u001b[1;33m)\u001b[0m\u001b[1;33m,\u001b[0m \u001b[0mminLineLength\u001b[0m \u001b[1;33m=\u001b[0m \u001b[1;36m100\u001b[0m\u001b[1;33m,\u001b[0m \u001b[0mmaxLineGap\u001b[0m \u001b[1;33m=\u001b[0m \u001b[1;36m50\u001b[0m\u001b[1;33m)\u001b[0m\u001b[1;33m\u001b[0m\u001b[1;33m\u001b[0m\u001b[0m\n\u001b[0;32m     11\u001b[0m     \u001b[1;31m# Averages multiple detected lines from hough into one line for left border of lane and one line for right border of lane\u001b[0m\u001b[1;33m\u001b[0m\u001b[1;33m\u001b[0m\u001b[1;33m\u001b[0m\u001b[0m\n\u001b[1;32m---> 12\u001b[1;33m     \u001b[0mlines\u001b[0m \u001b[1;33m=\u001b[0m \u001b[0mcalculate_lines\u001b[0m\u001b[1;33m(\u001b[0m\u001b[0mframe\u001b[0m\u001b[1;33m,\u001b[0m \u001b[0mhough\u001b[0m\u001b[1;33m)\u001b[0m\u001b[1;33m\u001b[0m\u001b[1;33m\u001b[0m\u001b[0m\n\u001b[0m\u001b[0;32m     13\u001b[0m     \u001b[1;31m# Visualizes the lines\u001b[0m\u001b[1;33m\u001b[0m\u001b[1;33m\u001b[0m\u001b[1;33m\u001b[0m\u001b[0m\n\u001b[0;32m     14\u001b[0m     \u001b[0mlines_visualize\u001b[0m \u001b[1;33m=\u001b[0m \u001b[0mvisualize_lines\u001b[0m\u001b[1;33m(\u001b[0m\u001b[0mframe\u001b[0m\u001b[1;33m,\u001b[0m \u001b[0mlines\u001b[0m\u001b[1;33m)\u001b[0m\u001b[1;33m\u001b[0m\u001b[1;33m\u001b[0m\u001b[0m\n",
      "\u001b[1;32m<ipython-input-31-56209f756e76>\u001b[0m in \u001b[0;36mcalculate_lines\u001b[1;34m(frame, lines)\u001b[0m\n\u001b[0;32m     21\u001b[0m     \u001b[1;31m# Calculates the x1, y1, x2, y2 coordinates for the left and right lines\u001b[0m\u001b[1;33m\u001b[0m\u001b[1;33m\u001b[0m\u001b[1;33m\u001b[0m\u001b[0m\n\u001b[0;32m     22\u001b[0m     \u001b[0mleft_line\u001b[0m \u001b[1;33m=\u001b[0m \u001b[0mcalculate_coordinates\u001b[0m\u001b[1;33m(\u001b[0m\u001b[0mframe\u001b[0m\u001b[1;33m,\u001b[0m \u001b[0mleft_avg\u001b[0m\u001b[1;33m)\u001b[0m\u001b[1;33m\u001b[0m\u001b[1;33m\u001b[0m\u001b[0m\n\u001b[1;32m---> 23\u001b[1;33m     \u001b[0mright_line\u001b[0m \u001b[1;33m=\u001b[0m \u001b[0mcalculate_coordinates\u001b[0m\u001b[1;33m(\u001b[0m\u001b[0mframe\u001b[0m\u001b[1;33m,\u001b[0m \u001b[0mright_avg\u001b[0m\u001b[1;33m)\u001b[0m\u001b[1;33m\u001b[0m\u001b[1;33m\u001b[0m\u001b[0m\n\u001b[0m\u001b[0;32m     24\u001b[0m     \u001b[1;32mreturn\u001b[0m \u001b[0mnp\u001b[0m\u001b[1;33m.\u001b[0m\u001b[0marray\u001b[0m\u001b[1;33m(\u001b[0m\u001b[1;33m[\u001b[0m\u001b[0mleft_line\u001b[0m\u001b[1;33m,\u001b[0m \u001b[0mright_line\u001b[0m\u001b[1;33m]\u001b[0m\u001b[1;33m)\u001b[0m\u001b[1;33m\u001b[0m\u001b[1;33m\u001b[0m\u001b[0m\n",
      "\u001b[1;32m<ipython-input-32-880fc498967b>\u001b[0m in \u001b[0;36mcalculate_coordinates\u001b[1;34m(frame, parameters)\u001b[0m\n\u001b[0;32m      1\u001b[0m \u001b[1;32mdef\u001b[0m \u001b[0mcalculate_coordinates\u001b[0m\u001b[1;33m(\u001b[0m\u001b[0mframe\u001b[0m\u001b[1;33m,\u001b[0m \u001b[0mparameters\u001b[0m\u001b[1;33m)\u001b[0m\u001b[1;33m:\u001b[0m\u001b[1;33m\u001b[0m\u001b[1;33m\u001b[0m\u001b[0m\n\u001b[1;32m----> 2\u001b[1;33m     \u001b[0mslope\u001b[0m\u001b[1;33m,\u001b[0m \u001b[0mintercept\u001b[0m \u001b[1;33m=\u001b[0m \u001b[0mparameters\u001b[0m\u001b[1;33m\u001b[0m\u001b[1;33m\u001b[0m\u001b[0m\n\u001b[0m\u001b[0;32m      3\u001b[0m     \u001b[1;31m# Sets initial y-coordinate as height from top down (bottom of the frame)\u001b[0m\u001b[1;33m\u001b[0m\u001b[1;33m\u001b[0m\u001b[1;33m\u001b[0m\u001b[0m\n\u001b[0;32m      4\u001b[0m     \u001b[0my1\u001b[0m \u001b[1;33m=\u001b[0m \u001b[0mframe\u001b[0m\u001b[1;33m.\u001b[0m\u001b[0mshape\u001b[0m\u001b[1;33m[\u001b[0m\u001b[1;36m0\u001b[0m\u001b[1;33m]\u001b[0m\u001b[1;33m\u001b[0m\u001b[1;33m\u001b[0m\u001b[0m\n\u001b[0;32m      5\u001b[0m     \u001b[1;31m# Sets final y-coordinate as 150 above the bottom of the frame\u001b[0m\u001b[1;33m\u001b[0m\u001b[1;33m\u001b[0m\u001b[1;33m\u001b[0m\u001b[0m\n",
      "\u001b[1;31mTypeError\u001b[0m: cannot unpack non-iterable numpy.float64 object"
     ]
    }
   ],
   "source": [
    "cap = cv.VideoCapture(\"input.mp4\")\n",
    "while (cap.isOpened()):\n",
    "    # ret = a boolean return value from getting the frame, frame = the current frame being projected in the video\n",
    "    ret, frame = cap.read()\n",
    "    canny = do_canny(frame)\n",
    "    cv.imshow(\"canny\", canny)\n",
    "    # plt.imshow(frame)\n",
    "    # plt.show()\n",
    "    segment = do_segment(canny)\n",
    "    hough = cv.HoughLinesP(segment, 2, np.pi / 180, 100, np.array([]), minLineLength = 100, maxLineGap = 50)\n",
    "    # Averages multiple detected lines from hough into one line for left border of lane and one line for right border of lane\n",
    "    lines = calculate_lines(frame, hough)\n",
    "    # Visualizes the lines\n",
    "    lines_visualize = visualize_lines(frame, lines)\n",
    "    cv.imshow(\"hough\", lines_visualize)\n",
    "    # Overlays lines on frame by taking their weighted sums and adding an arbitrary scalar value of 1 as the gamma argument\n",
    "    output = cv.addWeighted(frame, 0.9, lines_visualize, 1, 1)\n",
    "    # Opens a new window and displays the output frame\n",
    "    cv.imshow(\"output\", output)\n",
    "    # Frames are read by intervals of 10 milliseconds. The programs breaks out of the while loop when the user presses the 'q' key\n",
    "    if cv.waitKey(10) & 0xFF == ord('q'):\n",
    "        break\n",
    "# The following frees up resources and closes all windows\n",
    "cap.release()\n",
    "cv.destroyAllWindows()"
   ]
  },
  {
   "cell_type": "code",
   "execution_count": null,
   "metadata": {},
   "outputs": [],
   "source": []
  }
 ]
}